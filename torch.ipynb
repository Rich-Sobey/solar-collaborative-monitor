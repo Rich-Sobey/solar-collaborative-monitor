{
 "cells": [
  {
   "cell_type": "code",
   "execution_count": 167,
   "metadata": {},
   "outputs": [],
   "source": [
    "import torch\n",
    "import numpy as np\n",
    "from torch.utils.data import Dataset, DataLoader\n",
    "from torchvision import transforms, utils\n",
    "import pandas as pd\n",
    "import pdb"
   ]
  },
  {
   "cell_type": "code",
   "execution_count": 2,
   "metadata": {},
   "outputs": [],
   "source": [
    "t = torch.rand(4, 4, 5)"
   ]
  },
  {
   "cell_type": "code",
   "execution_count": 3,
   "metadata": {},
   "outputs": [
    {
     "data": {
      "text/plain": [
       "\n",
       "(0 ,.,.) = \n",
       "  0.6916  0.5430\n",
       "  0.0157  0.3273\n",
       "  0.5972  0.0859\n",
       "  0.9671  0.7922\n",
       "  0.7415  0.5100\n",
       "  0.9596  0.6191\n",
       "  0.3680  0.9812\n",
       "  0.7328  0.8542\n",
       "  0.8676  0.3984\n",
       "  0.3522  0.0929\n",
       "\n",
       "(1 ,.,.) = \n",
       "  0.6525  0.6418\n",
       "  0.2679  0.8705\n",
       "  0.4903  0.6075\n",
       "  0.5642  0.8171\n",
       "  0.0773  0.2623\n",
       "  0.8090  0.2616\n",
       "  0.7758  0.3871\n",
       "  0.3868  0.7190\n",
       "  0.5472  0.4373\n",
       "  0.4554  0.0949\n",
       "\n",
       "(2 ,.,.) = \n",
       "  0.8723  0.0695\n",
       "  0.8425  0.3667\n",
       "  0.6846  0.4431\n",
       "  0.6133  0.4877\n",
       "  0.1150  0.9401\n",
       "  0.1688  0.9180\n",
       "  0.1107  0.0581\n",
       "  0.3840  0.8331\n",
       "  0.6737  0.6934\n",
       "  0.8806  0.3097\n",
       "\n",
       "(3 ,.,.) = \n",
       "  0.5221  0.4753\n",
       "  0.7044  0.7149\n",
       "  0.8597  0.4956\n",
       "  0.0169  0.0460\n",
       "  0.0095  0.1659\n",
       "  0.2617  0.4398\n",
       "  0.9713  0.9629\n",
       "  0.8688  0.0127\n",
       "  0.6088  0.5575\n",
       "  0.8656  0.9895\n",
       "[torch.FloatTensor of size 4x10x2]"
      ]
     },
     "execution_count": 3,
     "metadata": {},
     "output_type": "execute_result"
    }
   ],
   "source": [
    "t.view(4, 10, -1)"
   ]
  },
  {
   "cell_type": "code",
   "execution_count": 6,
   "metadata": {},
   "outputs": [
    {
     "data": {
      "text/plain": [
       "array([[1., 1., 1.],\n",
       "       [1., 1., 1.],\n",
       "       [1., 1., 1.],\n",
       "       [1., 1., 1.],\n",
       "       [1., 1., 1.]], dtype=float32)"
      ]
     },
     "execution_count": 6,
     "metadata": {},
     "output_type": "execute_result"
    }
   ],
   "source": [
    "torch.ones(5, 3).numpy()"
   ]
  },
  {
   "cell_type": "code",
   "execution_count": 9,
   "metadata": {},
   "outputs": [
    {
     "data": {
      "text/plain": [
       "\n",
       " 4\n",
       " 5\n",
       " 3\n",
       "[torch.LongTensor of size 3]"
      ]
     },
     "execution_count": 9,
     "metadata": {},
     "output_type": "execute_result"
    }
   ],
   "source": [
    "torch.from_numpy(np.array([4, 5, 3]))"
   ]
  },
  {
   "cell_type": "code",
   "execution_count": 18,
   "metadata": {},
   "outputs": [],
   "source": [
    "x = torch.ones(2, 2)"
   ]
  },
  {
   "cell_type": "code",
   "execution_count": 19,
   "metadata": {},
   "outputs": [
    {
     "data": {
      "text/plain": [
       "\n",
       " 1  1\n",
       " 1  1\n",
       "[torch.FloatTensor of size 2x2]"
      ]
     },
     "execution_count": 19,
     "metadata": {},
     "output_type": "execute_result"
    }
   ],
   "source": [
    "x"
   ]
  },
  {
   "cell_type": "code",
   "execution_count": 20,
   "metadata": {},
   "outputs": [],
   "source": [
    "y = x+2"
   ]
  },
  {
   "cell_type": "code",
   "execution_count": 21,
   "metadata": {},
   "outputs": [],
   "source": [
    "z = y*y*3"
   ]
  },
  {
   "cell_type": "code",
   "execution_count": 22,
   "metadata": {},
   "outputs": [],
   "source": [
    "out = z.mean()"
   ]
  },
  {
   "cell_type": "code",
   "execution_count": 24,
   "metadata": {},
   "outputs": [
    {
     "ename": "AttributeError",
     "evalue": "'float' object has no attribute 'backward'",
     "output_type": "error",
     "traceback": [
      "\u001b[0;31m---------------------------------------------------------------------------\u001b[0m",
      "\u001b[0;31mAttributeError\u001b[0m                            Traceback (most recent call last)",
      "\u001b[0;32m<ipython-input-24-617965056ac0>\u001b[0m in \u001b[0;36m<module>\u001b[0;34m\u001b[0m\n\u001b[0;32m----> 1\u001b[0;31m \u001b[0mout\u001b[0m\u001b[0;34m.\u001b[0m\u001b[0mbackward\u001b[0m\u001b[0;34m(\u001b[0m\u001b[0;34m)\u001b[0m\u001b[0;34m\u001b[0m\u001b[0m\n\u001b[0m",
      "\u001b[0;31mAttributeError\u001b[0m: 'float' object has no attribute 'backward'"
     ]
    }
   ],
   "source": [
    "out.backward()"
   ]
  },
  {
   "cell_type": "code",
   "execution_count": 27,
   "metadata": {},
   "outputs": [
    {
     "ename": "TypeError",
     "evalue": "'module' object is not callable",
     "output_type": "error",
     "traceback": [
      "\u001b[0;31m---------------------------------------------------------------------------\u001b[0m",
      "\u001b[0;31mTypeError\u001b[0m                                 Traceback (most recent call last)",
      "\u001b[0;32m<ipython-input-27-bf33e0ce3b01>\u001b[0m in \u001b[0;36m<module>\u001b[0;34m\u001b[0m\n\u001b[0;32m----> 1\u001b[0;31m \u001b[0mtorch\u001b[0m\u001b[0;34m.\u001b[0m\u001b[0mautograd\u001b[0m\u001b[0;34m(\u001b[0m\u001b[0my\u001b[0m\u001b[0;34m)\u001b[0m\u001b[0;34m\u001b[0m\u001b[0m\n\u001b[0m",
      "\u001b[0;31mTypeError\u001b[0m: 'module' object is not callable"
     ]
    }
   ],
   "source": [
    "torch.autograd(y)"
   ]
  },
  {
   "cell_type": "code",
   "execution_count": 260,
   "metadata": {},
   "outputs": [],
   "source": [
    "class BigData(Dataset):\n",
    "    def __init__(self, df, dep, num_sites):\n",
    "        self.length = max(df['day']) + 1\n",
    "        self.num_sites = num_sites\n",
    "        self.array = torch.Tensor(df.drop(columns=dep).values)\n",
    "        self.index = torch.Tensor(df['day'].values)\n",
    "        self.y = torch.Tensor(df[dep].values)\n",
    "        \n",
    "    def __len__(self):\n",
    "        return self.length\n",
    "    \n",
    "    def __getitem__(self, idx):\n",
    "        ind = [self.index == idx]\n",
    "        mask = torch.zeros(self.array.shape)\n",
    "        for i in range(self.array.size(1)):\n",
    "            mask[:, i] = ind[0]\n",
    "        sample = self.array.masked_select(mask.byte()).view(-1, self.array.size(1))\n",
    "        y = self.y.masked_select(ind[0].byte())\n",
    "        return sample, y"
   ]
  },
  {
   "cell_type": "code",
   "execution_count": 261,
   "metadata": {},
   "outputs": [],
   "source": [
    "df = pd.DataFrame(columns=['site', 'day', 'prod'])\n",
    "df['site'] = [1, 1, 1, 1, 2, 2, 3, 3, 3]\n",
    "df['day'] = [0, 1, 2, 3, 0, 1, 0, 1, 2]\n",
    "df['prod'] = [33.4, 14.5, 31.3, 45.2, 64.3, 41.7, 13.6, 17.6, 19.5]"
   ]
  },
  {
   "cell_type": "code",
   "execution_count": 262,
   "metadata": {},
   "outputs": [],
   "source": [
    "dataset = BigData(df, 'prod', 3)"
   ]
  },
  {
   "cell_type": "code",
   "execution_count": 263,
   "metadata": {},
   "outputs": [],
   "source": [
    "DL = DataLoader(dataset, batch_size=1, shuffle=False)"
   ]
  },
  {
   "cell_type": "code",
   "execution_count": 264,
   "metadata": {},
   "outputs": [
    {
     "name": "stdout",
     "output_type": "stream",
     "text": [
      "0 [\n",
      "(0 ,.,.) = \n",
      "  1  0\n",
      "  2  0\n",
      "  3  0\n",
      "[torch.FloatTensor of size 1x3x2]\n",
      ", \n",
      " 33.4000  64.3000  13.6000\n",
      "[torch.FloatTensor of size 1x3]\n",
      "]\n",
      "1 [\n",
      "(0 ,.,.) = \n",
      "  1  1\n",
      "  2  1\n",
      "  3  1\n",
      "[torch.FloatTensor of size 1x3x2]\n",
      ", \n",
      " 14.5000  41.7000  17.6000\n",
      "[torch.FloatTensor of size 1x3]\n",
      "]\n",
      "2 [\n",
      "(0 ,.,.) = \n",
      "  1  2\n",
      "  3  2\n",
      "[torch.FloatTensor of size 1x2x2]\n",
      ", \n",
      " 31.3000  19.5000\n",
      "[torch.FloatTensor of size 1x2]\n",
      "]\n",
      "3 [\n",
      "(0 ,.,.) = \n",
      "  1  3\n",
      "[torch.FloatTensor of size 1x1x2]\n",
      ", \n",
      " 45.2000\n",
      "[torch.FloatTensor of size 1x1]\n",
      "]\n"
     ]
    }
   ],
   "source": [
    "for i, batch in enumerate(DL):\n",
    "    print(i, batch)"
   ]
  },
  {
   "cell_type": "code",
   "execution_count": 214,
   "metadata": {},
   "outputs": [
    {
     "data": {
      "text/plain": [
       "\n",
       "(0 ,.,.) = \n",
       "   1.0000   0.0000  33.4000\n",
       "   2.0000   0.0000  64.3000\n",
       "   3.0000   0.0000  13.6000\n",
       "[torch.FloatTensor of size 1x3x3]"
      ]
     },
     "execution_count": 214,
     "metadata": {},
     "output_type": "execute_result"
    }
   ],
   "source": [
    "next(iter(DL))"
   ]
  },
  {
   "cell_type": "code",
   "execution_count": null,
   "metadata": {},
   "outputs": [],
   "source": []
  }
 ],
 "metadata": {
  "kernelspec": {
   "display_name": "Python 3",
   "language": "python",
   "name": "python3"
  },
  "language_info": {
   "codemirror_mode": {
    "name": "ipython",
    "version": 3
   },
   "file_extension": ".py",
   "mimetype": "text/x-python",
   "name": "python",
   "nbconvert_exporter": "python",
   "pygments_lexer": "ipython3",
   "version": "3.6.6"
  }
 },
 "nbformat": 4,
 "nbformat_minor": 2
}
